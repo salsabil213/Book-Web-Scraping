{
 "cells": [
  {
   "cell_type": "markdown",
   "metadata": {},
   "source": [
    "# Web Scarping for an online book store 'Diwan' "
   ]
  },
  {
   "cell_type": "markdown",
   "metadata": {},
   "source": [
    "Import used libraries"
   ]
  },
  {
   "cell_type": "code",
   "execution_count": 112,
   "metadata": {},
   "outputs": [],
   "source": [
    "import requests\n",
    "from bs4 import BeautifulSoup\n",
    "import pandas as pd\n",
    "import matplotlib.pyplot as plt\n",
    "import seaborn as sns\n"
   ]
  },
  {
   "cell_type": "code",
   "execution_count": 113,
   "metadata": {},
   "outputs": [],
   "source": [
    "page = requests.get(\"https://diwanegypt.com/product-category/books/arabic-books/\")\n",
    "src = page.content\n",
    "soup = BeautifulSoup(src, \"lxml\")\n",
    "all_books = soup.find(\"ul\", {'class': 'products columns-5'})"
   ]
  },
  {
   "cell_type": "code",
   "execution_count": 114,
   "metadata": {},
   "outputs": [],
   "source": [
    "book_names=[]\n",
    "book_authors=[]\n",
    "book_prices=[]"
   ]
  },
  {
   "cell_type": "markdown",
   "metadata": {},
   "source": [
    "Extract each book's data"
   ]
  },
  {
   "cell_type": "code",
   "execution_count": 115,
   "metadata": {},
   "outputs": [],
   "source": [
    "books = all_books.find_all(\"li\")\n",
    "for book in books:\n",
    " \n",
    "    name = book.find(\"h2\", {\"class\": \"woocommerce-loop-product__title\"})\n",
    "    book_names.append(name.text if name else \"N/A\")\n",
    "\n",
    "    author = book.find(\"span\", {\"class\": \"author\"})\n",
    "    book_authors.append(author.text.strip() if author else \"N/A\")\n",
    "\n",
    "    price = book.find(\"span\", {\"class\": \"woocommerce-Price-amount\"})\n",
    "    book_prices.append(price.text if price else \"N/A\")\n",
    "\n",
    "booksdf = pd.DataFrame({\n",
    "    \"Book Name\": book_names,\n",
    "    \"Author\": book_authors,\n",
    "    \"Price\": book_prices\n",
    "})"
   ]
  },
  {
   "cell_type": "markdown",
   "metadata": {},
   "source": [
    "Save the dataframe to CSV"
   ]
  },
  {
   "cell_type": "code",
   "execution_count": 116,
   "metadata": {},
   "outputs": [],
   "source": [
    "\n",
    "booksdf.to_csv(\"diwan_books.csv\", index=False, encoding='utf-8-sig')"
   ]
  },
  {
   "cell_type": "code",
   "execution_count": 117,
   "metadata": {},
   "outputs": [
    {
     "data": {
      "text/html": [
       "<div>\n",
       "<style scoped>\n",
       "    .dataframe tbody tr th:only-of-type {\n",
       "        vertical-align: middle;\n",
       "    }\n",
       "\n",
       "    .dataframe tbody tr th {\n",
       "        vertical-align: top;\n",
       "    }\n",
       "\n",
       "    .dataframe thead th {\n",
       "        text-align: right;\n",
       "    }\n",
       "</style>\n",
       "<table border=\"1\" class=\"dataframe\">\n",
       "  <thead>\n",
       "    <tr style=\"text-align: right;\">\n",
       "      <th></th>\n",
       "      <th>Book Name</th>\n",
       "      <th>Author</th>\n",
       "      <th>Price</th>\n",
       "    </tr>\n",
       "  </thead>\n",
       "  <tbody>\n",
       "    <tr>\n",
       "      <th>0</th>\n",
       "      <td>آموك: سعار الحب</td>\n",
       "      <td>ستيفان زفايغ</td>\n",
       "      <td>EGP240.00</td>\n",
       "    </tr>\n",
       "    <tr>\n",
       "      <th>1</th>\n",
       "      <td>التحول</td>\n",
       "      <td>ستيفان زفايغ</td>\n",
       "      <td>EGP480.00</td>\n",
       "    </tr>\n",
       "    <tr>\n",
       "      <th>2</th>\n",
       "      <td>الليلة العجيبة</td>\n",
       "      <td>ستيفان زفايغ</td>\n",
       "      <td>EGP240.00</td>\n",
       "    </tr>\n",
       "    <tr>\n",
       "      <th>3</th>\n",
       "      <td>سجلات الليدر شيت</td>\n",
       "      <td>سالى العقاد</td>\n",
       "      <td>EGP160.00</td>\n",
       "    </tr>\n",
       "    <tr>\n",
       "      <th>4</th>\n",
       "      <td>عزيزتي تارا: رسائل مثيرة للونس</td>\n",
       "      <td>غادة كريم</td>\n",
       "      <td>EGP250.00</td>\n",
       "    </tr>\n",
       "  </tbody>\n",
       "</table>\n",
       "</div>"
      ],
      "text/plain": [
       "                        Book Name        Author      Price\n",
       "0                 آموك: سعار الحب  ستيفان زفايغ  EGP240.00\n",
       "1                          التحول  ستيفان زفايغ  EGP480.00\n",
       "2                  الليلة العجيبة  ستيفان زفايغ  EGP240.00\n",
       "3                سجلات الليدر شيت   سالى العقاد  EGP160.00\n",
       "4  عزيزتي تارا: رسائل مثيرة للونس     غادة كريم  EGP250.00"
      ]
     },
     "execution_count": 117,
     "metadata": {},
     "output_type": "execute_result"
    }
   ],
   "source": [
    "df = pd.read_csv(\"diwan_books.csv\")\n",
    "df.head()\n"
   ]
  },
  {
   "cell_type": "markdown",
   "metadata": {},
   "source": [
    "Remove currency symbol and convert price to float"
   ]
  },
  {
   "cell_type": "code",
   "execution_count": 118,
   "metadata": {},
   "outputs": [],
   "source": [
    "\n",
    "df[\"Price\"] = df[\"Price\"].str.replace(\"EGP\", \"\").str.replace(\",\", \"\").str.strip()\n",
    "df[\"Price\"] = pd.to_numeric(df[\"Price\"], errors=\"coerce\")\n",
    "df.dropna(subset=[\"Price\"], inplace=True)\n"
   ]
  },
  {
   "cell_type": "code",
   "execution_count": 119,
   "metadata": {},
   "outputs": [
    {
     "data": {
      "text/plain": [
       "Author\n",
       "ستيفان زفايغ          3\n",
       "سالى العقاد           1\n",
       "غادة كريم             1\n",
       "اسماعيل سراج الدين    1\n",
       "سعيد توفيق            1\n",
       "Name: count, dtype: int64"
      ]
     },
     "execution_count": 119,
     "metadata": {},
     "output_type": "execute_result"
    }
   ],
   "source": [
    "df[\"Author\"].value_counts().head()"
   ]
  },
  {
   "cell_type": "code",
   "execution_count": 120,
   "metadata": {},
   "outputs": [
    {
     "data": {
      "text/plain": [
       "count     28.000000\n",
       "mean     280.178571\n",
       "std      127.304550\n",
       "min      150.000000\n",
       "25%      200.000000\n",
       "50%      250.000000\n",
       "75%      306.250000\n",
       "max      750.000000\n",
       "Name: Price, dtype: float64"
      ]
     },
     "execution_count": 120,
     "metadata": {},
     "output_type": "execute_result"
    }
   ],
   "source": [
    "df[\"Price\"].describe()"
   ]
  },
  {
   "cell_type": "code",
   "execution_count": 121,
   "metadata": {},
   "outputs": [
    {
     "name": "stdout",
     "output_type": "stream",
     "text": [
      "<class 'pandas.core.frame.DataFrame'>\n",
      "RangeIndex: 28 entries, 0 to 27\n",
      "Data columns (total 3 columns):\n",
      " #   Column     Non-Null Count  Dtype  \n",
      "---  ------     --------------  -----  \n",
      " 0   Book Name  28 non-null     object \n",
      " 1   Author     28 non-null     object \n",
      " 2   Price      28 non-null     float64\n",
      "dtypes: float64(1), object(2)\n",
      "memory usage: 804.0+ bytes\n"
     ]
    }
   ],
   "source": [
    "df.info()"
   ]
  },
  {
   "cell_type": "markdown",
   "metadata": {},
   "source": [
    "### Distribution of Book Prices"
   ]
  },
  {
   "cell_type": "code",
   "execution_count": 122,
   "metadata": {},
   "outputs": [
    {
     "data": {
      "image/png": "[encoded data removed]",
      "text/plain": [
       "<Figure size 1200x700 with 1 Axes>"
      ]
     },
     "metadata": {},
     "output_type": "display_data"
    }
   ],
   "source": [
    "mean_price = df['Price'].mean()\n",
    "median_price = df['Price'].median()\n",
    "\n",
    "plt.figure(figsize=(12, 7))\n",
    "sns.set_style(\"whitegrid\")\n",
    "sns.histplot(df['Price'], bins=15, kde=True, color=\"skyblue\", edgecolor='black')\n",
    "plt.axvline(mean_price, color='red', linestyle='--',  linewidth=2,label=f\"Mean: {mean_price:.2f} EGP\")\n",
    "plt.axvline(median_price, color='green', linestyle='--', linewidth=2, label=f\"Median: {median_price:.2f} EGP\")\n",
    "plt.title(\"Distribution of Book Prices\", fontsize=16, fontweight='bold')\n",
    "plt.xlabel(\"Price (EGP)\", fontsize=12)\n",
    "plt.ylabel(\"Count\", fontsize=12)\n",
    "plt.legend()\n",
    "plt.tight_layout()\n",
    "plt.show()\n"
   ]
  },
  {
   "cell_type": "markdown",
   "metadata": {},
   "source": [
    "### Top 10 Most Expensive Books"
   ]
  },
  {
   "cell_type": "code",
   "execution_count": 123,
   "metadata": {},
   "outputs": [
    {
     "data": {
      "text/html": [
       "<div>\n",
       "<style scoped>\n",
       "    .dataframe tbody tr th:only-of-type {\n",
       "        vertical-align: middle;\n",
       "    }\n",
       "\n",
       "    .dataframe tbody tr th {\n",
       "        vertical-align: top;\n",
       "    }\n",
       "\n",
       "    .dataframe thead th {\n",
       "        text-align: right;\n",
       "    }\n",
       "</style>\n",
       "<table border=\"1\" class=\"dataframe\">\n",
       "  <thead>\n",
       "    <tr style=\"text-align: right;\">\n",
       "      <th></th>\n",
       "      <th>Book Name</th>\n",
       "      <th>Author</th>\n",
       "      <th>Price</th>\n",
       "    </tr>\n",
       "  </thead>\n",
       "  <tbody>\n",
       "    <tr>\n",
       "      <th>13</th>\n",
       "      <td>السريالية في مصر: الحداثة وجماعة الفن والحرية</td>\n",
       "      <td>سام بردويل</td>\n",
       "      <td>750.0</td>\n",
       "    </tr>\n",
       "    <tr>\n",
       "      <th>25</th>\n",
       "      <td>النص والسلطة والمجتمع: القيم السياسية في الروا...</td>\n",
       "      <td>عمار على حسن</td>\n",
       "      <td>500.0</td>\n",
       "    </tr>\n",
       "    <tr>\n",
       "      <th>1</th>\n",
       "      <td>التحول</td>\n",
       "      <td>ستيفان زفايغ</td>\n",
       "      <td>480.0</td>\n",
       "    </tr>\n",
       "    <tr>\n",
       "      <th>14</th>\n",
       "      <td>كشتبان: الأم التي طارت</td>\n",
       "      <td>اميمة صبحى</td>\n",
       "      <td>400.0</td>\n",
       "    </tr>\n",
       "    <tr>\n",
       "      <th>23</th>\n",
       "      <td>استكشاف كنوز وآثار الصحراء الشرقية المصرية (مص...</td>\n",
       "      <td>ارثر ويجول</td>\n",
       "      <td>350.0</td>\n",
       "    </tr>\n",
       "    <tr>\n",
       "      <th>9</th>\n",
       "      <td>كل شيئ عن الحب</td>\n",
       "      <td>بيل هوكس</td>\n",
       "      <td>350.0</td>\n",
       "    </tr>\n",
       "    <tr>\n",
       "      <th>6</th>\n",
       "      <td>ومضات من الفكر: في السياسة والدين والأخلاق و ا...</td>\n",
       "      <td>سعيد توفيق</td>\n",
       "      <td>325.0</td>\n",
       "    </tr>\n",
       "    <tr>\n",
       "      <th>15</th>\n",
       "      <td>الحنين إلى أسوأ حديقة حيوان في العالم</td>\n",
       "      <td>شادى لويس</td>\n",
       "      <td>300.0</td>\n",
       "    </tr>\n",
       "    <tr>\n",
       "      <th>11</th>\n",
       "      <td>الحشاشون: صفحات من تاريخ وأساطير النزارية</td>\n",
       "      <td>حسن حافظ</td>\n",
       "      <td>300.0</td>\n",
       "    </tr>\n",
       "    <tr>\n",
       "      <th>10</th>\n",
       "      <td>مقام سيدي القطقوطي</td>\n",
       "      <td>مى حمزة</td>\n",
       "      <td>250.0</td>\n",
       "    </tr>\n",
       "  </tbody>\n",
       "</table>\n",
       "</div>"
      ],
      "text/plain": [
       "                                            Book Name        Author  Price\n",
       "13      السريالية في مصر: الحداثة وجماعة الفن والحرية    سام بردويل  750.0\n",
       "25  النص والسلطة والمجتمع: القيم السياسية في الروا...  عمار على حسن  500.0\n",
       "1                                              التحول  ستيفان زفايغ  480.0\n",
       "14                             كشتبان: الأم التي طارت    اميمة صبحى  400.0\n",
       "23  استكشاف كنوز وآثار الصحراء الشرقية المصرية (مص...    ارثر ويجول  350.0\n",
       "9                                      كل شيئ عن الحب      بيل هوكس  350.0\n",
       "6   ومضات من الفكر: في السياسة والدين والأخلاق و ا...    سعيد توفيق  325.0\n",
       "15              الحنين إلى أسوأ حديقة حيوان في العالم     شادى لويس  300.0\n",
       "11          الحشاشون: صفحات من تاريخ وأساطير النزارية      حسن حافظ  300.0\n",
       "10                                 مقام سيدي القطقوطي       مى حمزة  250.0"
      ]
     },
     "execution_count": 123,
     "metadata": {},
     "output_type": "execute_result"
    }
   ],
   "source": [
    "top_expensive = df.sort_values(by=\"Price\", ascending=False).head(10)\n",
    "top_expensive[[\"Book Name\", \"Author\", \"Price\"]]"
   ]
  }
 ],
 "metadata": {
  "kernelspec": {
   "display_name": ".venv",
   "language": "python",
   "name": "python3"
  },
  "language_info": {
   "codemirror_mode": {
    "name": "ipython",
    "version": 3
   },
   "file_extension": ".py",
   "mimetype": "text/x-python",
   "name": "python",
   "nbconvert_exporter": "python",
   "pygments_lexer": "ipython3",
   "version": "3.13.0"
  }
 },
 "nbformat": 4,
 "nbformat_minor": 2
}
